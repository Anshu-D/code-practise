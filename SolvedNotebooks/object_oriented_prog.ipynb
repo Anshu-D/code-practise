{
 "cells": [
  {
   "cell_type": "markdown",
   "metadata": {},
   "source": [
    "### Question 1: How do you define a class and create an instance of it?"
   ]
  },
  {
   "cell_type": "code",
   "execution_count": 1,
   "metadata": {},
   "outputs": [
    {
     "name": "stdout",
     "output_type": "stream",
     "text": [
      "Hello, my name is Alice and I am 30 years old.\n"
     ]
    }
   ],
   "source": [
    "# Defining a simple class\n",
    "class Person:\n",
    "    def __init__(self, name, age):\n",
    "        self.name = name\n",
    "        self.age = age\n",
    "\n",
    "    def greet(self):\n",
    "        return f\"Hello, my name is {self.name} and I am {self.age} years old.\"\n",
    "\n",
    "# Creating an instance of the class\n",
    "person1 = Person(\"Alice\", 30)\n",
    "print(person1.greet())\n"
   ]
  },
  {
   "cell_type": "markdown",
   "metadata": {},
   "source": [
    "### Question 2: How do you implement inheritance in Python?\n"
   ]
  },
  {
   "cell_type": "code",
   "execution_count": 2,
   "metadata": {},
   "outputs": [
    {
     "name": "stdout",
     "output_type": "stream",
     "text": [
      "Buddy says Woof!\n"
     ]
    }
   ],
   "source": [
    "# Defining a base class\n",
    "class Animal:\n",
    "    def __init__(self, name):\n",
    "        self.name = name\n",
    "\n",
    "    def speak(self):\n",
    "        raise NotImplementedError(\"Subclass must implement abstract method\")\n",
    "\n",
    "# Defining a derived class\n",
    "class Dog(Animal):\n",
    "    def speak(self):\n",
    "        return f\"{self.name} says Woof!\"\n",
    "\n",
    "# Creating an instance of the derived class\n",
    "dog = Dog(\"Buddy\")\n",
    "print(dog.speak())\n"
   ]
  },
  {
   "cell_type": "markdown",
   "metadata": {},
   "source": [
    "### Question 3: How do you use the super() function to call a method from the parent class?"
   ]
  },
  {
   "cell_type": "code",
   "execution_count": 3,
   "metadata": {},
   "outputs": [
    {
     "name": "stdout",
     "output_type": "stream",
     "text": [
      "I am Charlie from the Parent class. I am 10 years old.\n"
     ]
    }
   ],
   "source": [
    "# Defining a base class\n",
    "class Parent:\n",
    "    def __init__(self, name):\n",
    "        self.name = name\n",
    "\n",
    "    def introduce(self):\n",
    "        return f\"I am {self.name} from the Parent class.\"\n",
    "\n",
    "# Defining a derived class\n",
    "class Child(Parent):\n",
    "    def __init__(self, name, age):\n",
    "        super().__init__(name)\n",
    "        self.age = age\n",
    "\n",
    "    def introduce(self):\n",
    "        parent_intro = super().introduce()\n",
    "        return f\"{parent_intro} I am {self.age} years old.\"\n",
    "\n",
    "# Creating an instance of the derived class\n",
    "child = Child(\"Charlie\", 10)\n",
    "print(child.introduce())\n"
   ]
  },
  {
   "cell_type": "markdown",
   "metadata": {},
   "source": [
    "### Question 4: How do you define and use class methods and static methods?"
   ]
  },
  {
   "cell_type": "code",
   "execution_count": 4,
   "metadata": {},
   "outputs": [
    {
     "name": "stdout",
     "output_type": "stream",
     "text": [
      "1\n",
      "This is a static method.\n"
     ]
    }
   ],
   "source": [
    "# Defining a class with class methods and static methods\n",
    "class MyClass:\n",
    "    class_variable = 0\n",
    "\n",
    "    def __init__(self, value):\n",
    "        self.value = value\n",
    "\n",
    "    @classmethod\n",
    "    def increment_class_variable(cls):\n",
    "        cls.class_variable += 1\n",
    "        return cls.class_variable\n",
    "\n",
    "    @staticmethod\n",
    "    def static_method():\n",
    "        return \"This is a static method.\"\n",
    "\n",
    "# Using class methods and static methods\n",
    "print(MyClass.increment_class_variable())  # Output: 1\n",
    "print(MyClass.static_method())             # Output: This is a static method.\n"
   ]
  },
  {
   "cell_type": "markdown",
   "metadata": {},
   "source": [
    "### Question 5: How do you implement encapsulation and use getters and setters?"
   ]
  },
  {
   "cell_type": "code",
   "execution_count": 5,
   "metadata": {},
   "outputs": [
    {
     "name": "stdout",
     "output_type": "stream",
     "text": [
      "10\n",
      "20\n"
     ]
    }
   ],
   "source": [
    "# Defining a class with encapsulation\n",
    "class EncapsulatedClass:\n",
    "    def __init__(self, value):\n",
    "        self._value = value  # Private variable\n",
    "\n",
    "    @property\n",
    "    def value(self):\n",
    "        return self._value\n",
    "\n",
    "    @value.setter\n",
    "    def value(self, new_value):\n",
    "        if new_value > 0:\n",
    "            self._value = new_value\n",
    "        else:\n",
    "            raise ValueError(\"Value must be positive.\")\n",
    "\n",
    "# Using getters and setters\n",
    "obj = EncapsulatedClass(10)\n",
    "print(obj.value)  # Output: 10\n",
    "obj.value = 20\n",
    "print(obj.value)  # Output: 20\n",
    "# obj.value = -10  # This will raise ValueError: Value must be positive.\n"
   ]
  }
 ],
 "metadata": {
  "kernelspec": {
   "display_name": "base",
   "language": "python",
   "name": "python3"
  },
  "language_info": {
   "codemirror_mode": {
    "name": "ipython",
    "version": 3
   },
   "file_extension": ".py",
   "mimetype": "text/x-python",
   "name": "python",
   "nbconvert_exporter": "python",
   "pygments_lexer": "ipython3",
   "version": "3.11.5"
  }
 },
 "nbformat": 4,
 "nbformat_minor": 2
}
