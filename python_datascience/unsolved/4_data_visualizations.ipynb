{
 "cells": [
  {
   "cell_type": "markdown",
   "metadata": {},
   "source": [
    "## Data Visualizations"
   ]
  },
  {
   "cell_type": "markdown",
   "metadata": {},
   "source": [
    "### Question 1: Line Plot\n",
    "#### Task: Create a line plot showing the trend of \"sales\" over time."
   ]
  },
  {
   "cell_type": "code",
   "execution_count": null,
   "metadata": {},
   "outputs": [],
   "source": [
    "import pandas as pd\n",
    "import matplotlib.pyplot as plt\n",
    "\n",
    "# Sample DataFrame\n",
    "data = {'date': pd.date_range(start='2023-01-01', periods=10, freq='D'),\n",
    "        'sales': [200, 220, 250, 230, 260, 270, 300, 310, 320, 330]}\n",
    "df = pd.DataFrame(data)\n",
    "\n",
    "# Create a line plot\n",
    "plt.figure(figsize=(10, 6))\n",
    "plt.plot(df['date'], df['sales'], marker='o')\n",
    "plt.xlabel('Date')\n",
    "plt.ylabel('Sales')\n",
    "plt.title('Sales Trend Over Time')\n",
    "plt.grid(True)\n",
    "plt.show()\n"
   ]
  },
  {
   "cell_type": "markdown",
   "metadata": {},
   "source": [
    "### Question 2: Bar Chart\n",
    "#### Task: Create a bar chart showing the number of items sold by category."
   ]
  },
  {
   "cell_type": "code",
   "execution_count": null,
   "metadata": {},
   "outputs": [],
   "source": [
    "import pandas as pd\n",
    "import matplotlib.pyplot as plt\n",
    "\n",
    "# Sample DataFrame\n",
    "data = {'category': ['A', 'B', 'C', 'D'],\n",
    "        'items_sold': [50, 60, 70, 80]}\n",
    "df = pd.DataFrame(data)\n",
    "\n",
    "# Create a bar chart\n",
    "plt.figure(figsize=(10, 6))\n",
    "plt.bar(df['category'], df['items_sold'], color='skyblue')\n",
    "plt.xlabel('Category')\n",
    "plt.ylabel('Items Sold')\n",
    "plt.title('Items Sold by Category')\n",
    "plt.show()\n"
   ]
  },
  {
   "cell_type": "markdown",
   "metadata": {},
   "source": [
    "### Question 3: Scatter Plot\n",
    "#### Task: Create a scatter plot showing the relationship between \"height\" and \"weight\"."
   ]
  },
  {
   "cell_type": "code",
   "execution_count": null,
   "metadata": {},
   "outputs": [],
   "source": [
    "import pandas as pd\n",
    "import matplotlib.pyplot as plt\n",
    "\n",
    "# Sample DataFrame\n",
    "data = {'height': [150, 160, 170, 180, 190],\n",
    "        'weight': [50, 60, 70, 80, 90]}\n",
    "df = pd.DataFrame(data)\n",
    "\n",
    "# Create a scatter plot\n",
    "plt.figure(figsize=(10, 6))\n",
    "plt.scatter(df['height'], df['weight'], color='green')\n",
    "plt.xlabel('Height (cm)')\n",
    "plt.ylabel('Weight (kg)')\n",
    "plt.title('Height vs Weight')\n",
    "plt.grid(True)\n",
    "plt.show()\n"
   ]
  },
  {
   "cell_type": "markdown",
   "metadata": {},
   "source": [
    "### Question 4: Histogram\n",
    "#### Task: Create a histogram of the \"age\" column."
   ]
  },
  {
   "cell_type": "code",
   "execution_count": null,
   "metadata": {},
   "outputs": [],
   "source": [
    "import pandas as pd\n",
    "import matplotlib.pyplot as plt\n",
    "\n",
    "# Sample DataFrame\n",
    "data = {'age': [23, 24, 23, 25, 26, 24, 23, 22, 27, 26]}\n",
    "df = pd.DataFrame(data)\n",
    "\n",
    "# Create a histogram\n",
    "plt.figure(figsize=(10, 6))\n",
    "plt.hist(df['age'], bins=5, edgecolor='black', color='purple')\n",
    "plt.xlabel('Age')\n",
    "plt.ylabel('Frequency')\n",
    "plt.title('Age Distribution')\n",
    "plt.show()\n"
   ]
  },
  {
   "cell_type": "markdown",
   "metadata": {},
   "source": [
    "### Question 5: Pie Chart\n",
    "#### Task: Create a pie chart showing the distribution of \"market share\" by company."
   ]
  },
  {
   "cell_type": "code",
   "execution_count": null,
   "metadata": {},
   "outputs": [],
   "source": [
    "import pandas as pd\n",
    "import matplotlib.pyplot as plt\n",
    "\n",
    "# Sample DataFrame\n",
    "data = {'company': ['Company A', 'Company B', 'Company C', 'Company D'],\n",
    "        'market_share': [30, 25, 20, 25]}\n",
    "df = pd.DataFrame(data)\n",
    "\n",
    "# Create a pie chart\n",
    "plt.figure(figsize=(8, 8))\n",
    "plt.pie(df['market_share'], labels=df['company'], autopct='%1.1f%%', startangle=140, colors=['blue', 'green', 'red', 'orange'])\n",
    "plt.title('Market Share by Company')\n",
    "plt.show()\n"
   ]
  }
 ],
 "metadata": {
  "kernelspec": {
   "display_name": "base",
   "language": "python",
   "name": "python3"
  },
  "language_info": {
   "codemirror_mode": {
    "name": "ipython",
    "version": 3
   },
   "file_extension": ".py",
   "mimetype": "text/x-python",
   "name": "python",
   "nbconvert_exporter": "python",
   "pygments_lexer": "ipython3",
   "version": "3.11.5"
  }
 },
 "nbformat": 4,
 "nbformat_minor": 2
}
