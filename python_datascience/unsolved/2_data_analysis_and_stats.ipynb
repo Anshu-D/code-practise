{
 "cells": [
  {
   "cell_type": "markdown",
   "metadata": {},
   "source": [
    "## Data Analysis and Statistics"
   ]
  },
  {
   "cell_type": "markdown",
   "metadata": {},
   "source": [
    "### Question 1: Descriptive Statistics\n",
    "#### Task: Calculate the mean, median, and standard deviation of the \"age\" column in a DataFrame."
   ]
  },
  {
   "cell_type": "code",
   "execution_count": null,
   "metadata": {},
   "outputs": [],
   "source": [
    "import pandas as pd\n",
    "\n",
    "# Sample DataFrame\n",
    "data = {'name': ['Alice', 'Bob', 'Charlie', 'David'],\n",
    "        'age': [24, 27, 22, 32],\n",
    "        'city': ['New York', 'Los Angeles', 'Chicago', 'Houston']}\n",
    "df = pd.DataFrame(data)\n",
    "\n",
    "# Calculate descriptive statistics\n",
    "mean_age = df['age'].mean()\n",
    "median_age = df['age'].median()\n",
    "std_dev_age = df['age'].std()\n",
    "\n",
    "print(f\"Mean age: {mean_age}\")\n",
    "print(f\"Median age: {median_age}\")\n",
    "print(f\"Standard Deviation of age: {std_dev_age}\")\n"
   ]
  },
  {
   "cell_type": "markdown",
   "metadata": {},
   "source": [
    "### Question 2: Correlation Matrix\n",
    "#### Task: Compute the correlation matrix of the numerical columns in the DataFrame."
   ]
  },
  {
   "cell_type": "code",
   "execution_count": null,
   "metadata": {},
   "outputs": [],
   "source": [
    "import pandas as pd\n",
    "\n",
    "# Sample DataFrame\n",
    "data = {'age': [24, 27, 22, 32],\n",
    "        'height': [165, 175, 168, 180],\n",
    "        'weight': [55, 70, 60, 75]}\n",
    "df = pd.DataFrame(data)\n",
    "\n",
    "# Compute the correlation matrix\n",
    "correlation_matrix = df.corr()\n",
    "print(correlation_matrix)\n"
   ]
  },
  {
   "cell_type": "markdown",
   "metadata": {},
   "source": [
    "### Question 3: Data Visualization with Matplotlib\n",
    "#### Task: Create a histogram of the \"age\" column."
   ]
  },
  {
   "cell_type": "code",
   "execution_count": null,
   "metadata": {},
   "outputs": [],
   "source": [
    "import pandas as pd\n",
    "import matplotlib.pyplot as plt\n",
    "\n",
    "# Sample DataFrame\n",
    "data = {'name': ['Alice', 'Bob', 'Charlie', 'David'],\n",
    "        'age': [24, 27, 22, 32],\n",
    "        'city': ['New York', 'Los Angeles', 'Chicago', 'Houston']}\n",
    "df = pd.DataFrame(data)\n",
    "\n",
    "# Create a histogram of the 'age' column\n",
    "plt.hist(df['age'], bins=5, edgecolor='black')\n",
    "plt.xlabel('Age')\n",
    "plt.ylabel('Frequency')\n",
    "plt.title('Age Distribution')\n",
    "plt.show()\n"
   ]
  },
  {
   "cell_type": "markdown",
   "metadata": {},
   "source": [
    "### Question 4: Linear Regression\n",
    "#### Task: Perform a simple linear regression to predict \"weight\" based on \"height\"."
   ]
  },
  {
   "cell_type": "code",
   "execution_count": null,
   "metadata": {},
   "outputs": [],
   "source": [
    "import pandas as pd\n",
    "from sklearn.linear_model import LinearRegression\n",
    "\n",
    "# Sample DataFrame\n",
    "data = {'height': [165, 175, 168, 180, 170],\n",
    "        'weight': [55, 70, 60, 75, 65]}\n",
    "df = pd.DataFrame(data)\n",
    "\n",
    "# Perform linear regression\n",
    "X = df[['height']]\n",
    "y = df['weight']\n",
    "model = LinearRegression()\n",
    "model.fit(X, y)\n",
    "\n",
    "# Print the coefficients\n",
    "print(f\"Intercept: {model.intercept_}\")\n",
    "print(f\"Coefficient: {model.coef_[0]}\")\n"
   ]
  },
  {
   "cell_type": "markdown",
   "metadata": {},
   "source": [
    "### Question 5: Hypothesis Testing\n",
    "#### Task: Conduct a t-test to compare the means of two independent samples."
   ]
  },
  {
   "cell_type": "code",
   "execution_count": null,
   "metadata": {},
   "outputs": [],
   "source": [
    "import pandas as pd\n",
    "from scipy.stats import ttest_ind\n",
    "\n",
    "# Sample Data\n",
    "group1 = [24, 27, 22, 32, 29]\n",
    "group2 = [30, 34, 28, 35, 31]\n",
    "\n",
    "# Perform t-test\n",
    "t_stat, p_value = ttest_ind(group1, group2)\n",
    "\n",
    "print(f\"T-statistic: {t_stat}\")\n",
    "print(f\"P-value: {p_value}\")\n"
   ]
  }
 ],
 "metadata": {
  "kernelspec": {
   "display_name": "base",
   "language": "python",
   "name": "python3"
  },
  "language_info": {
   "codemirror_mode": {
    "name": "ipython",
    "version": 3
   },
   "file_extension": ".py",
   "mimetype": "text/x-python",
   "name": "python",
   "nbconvert_exporter": "python",
   "pygments_lexer": "ipython3",
   "version": "3.11.5"
  }
 },
 "nbformat": 4,
 "nbformat_minor": 2
}
