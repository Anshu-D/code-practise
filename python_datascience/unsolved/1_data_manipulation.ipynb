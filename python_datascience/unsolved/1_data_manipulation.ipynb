{
 "cells": [
  {
   "cell_type": "markdown",
   "metadata": {},
   "source": [
    "## Data Manipulation using Python"
   ]
  },
  {
   "cell_type": "markdown",
   "metadata": {},
   "source": [
    "### Question 1: Filtering Data\n",
    "#### Task: Filter the rows of a DataFrame where the value in the \"age\" column is greater than 25."
   ]
  },
  {
   "cell_type": "code",
   "execution_count": 1,
   "metadata": {},
   "outputs": [
    {
     "name": "stdout",
     "output_type": "stream",
     "text": [
      "    name  age         city\n",
      "1    Bob   27  Los Angeles\n",
      "3  David   32      Houston\n"
     ]
    }
   ],
   "source": [
    "import pandas as pd\n",
    "\n",
    "# Sample DataFrame\n",
    "data = {'name': ['Alice', 'Bob', 'Charlie', 'David'],\n",
    "        'age': [24, 27, 22, 32],\n",
    "        'city': ['New York', 'Los Angeles', 'Chicago', 'Houston']}\n",
    "df = pd.DataFrame(data)\n",
    "\n",
    "# Filter rows where age > 25\n",
    "filtered_df = df[df['age'] > 25]\n",
    "print(filtered_df)\n"
   ]
  },
  {
   "cell_type": "code",
   "execution_count": 11,
   "metadata": {},
   "outputs": [
    {
     "name": "stdout",
     "output_type": "stream",
     "text": [
      "    name  age      city\n",
      "0  Alice   24  New York\n"
     ]
    }
   ],
   "source": [
    "import pandas as pd\n",
    "\n",
    "# Sample DataFrame\n",
    "data = {'name': ['Alice', 'Bob', 'Charlie', 'David'],\n",
    "        'age': [24, 27, 22, 32],\n",
    "        'city': ['New York', 'Los Angeles', 'Chicago', 'Houston']}\n",
    "df = pd.DataFrame(data)\n",
    "\n",
    "# Filter rows where age > 25\n",
    "filtered_df = df[(df['age'] > 23) & (df['city'] == \"New York\")]\n",
    "print(filtered_df)\n"
   ]
  },
  {
   "cell_type": "markdown",
   "metadata": {},
   "source": [
    "### Question 2: Grouping and Aggregation\n",
    "#### Task: Group the DataFrame by the \"city\" column and calculate the mean age for each city."
   ]
  },
  {
   "cell_type": "code",
   "execution_count": 12,
   "metadata": {},
   "outputs": [
    {
     "name": "stdout",
     "output_type": "stream",
     "text": [
      "          city   age\n",
      "0      Chicago  22.0\n",
      "1      Houston  32.0\n",
      "2  Los Angeles  27.0\n",
      "3     New York  24.0\n"
     ]
    }
   ],
   "source": [
    "import pandas as pd\n",
    "\n",
    "# Sample DataFrame\n",
    "data = {'name': ['Alice', 'Bob', 'Charlie', 'David'],\n",
    "        'age': [24, 27, 22, 32],\n",
    "        'city': ['New York', 'Los Angeles', 'Chicago', 'Houston']}\n",
    "df = pd.DataFrame(data)\n",
    "\n",
    "# Group by city and calculate mean age\n",
    "grouped_df = df.groupby('city')['age'].mean().reset_index()\n",
    "print(grouped_df)\n"
   ]
  },
  {
   "cell_type": "markdown",
   "metadata": {},
   "source": [
    "### Question 3: Adding a New Column\n",
    "#### Task: Add a new column to the DataFrame that shows whether the person is above 25 years old.\n",
    "\n"
   ]
  },
  {
   "cell_type": "code",
   "execution_count": 13,
   "metadata": {},
   "outputs": [
    {
     "name": "stdout",
     "output_type": "stream",
     "text": [
      "      name  age         city  above_25\n",
      "0    Alice   24     New York     False\n",
      "1      Bob   27  Los Angeles      True\n",
      "2  Charlie   22      Chicago     False\n",
      "3    David   32      Houston      True\n"
     ]
    }
   ],
   "source": [
    "import pandas as pd\n",
    "\n",
    "# Sample DataFrame\n",
    "data = {'name': ['Alice', 'Bob', 'Charlie', 'David'],\n",
    "        'age': [24, 27, 22, 32],\n",
    "        'city': ['New York', 'Los Angeles', 'Chicago', 'Houston']}\n",
    "df = pd.DataFrame(data)\n",
    "\n",
    "# Add a new column 'above_25'\n",
    "df['above_25'] = df['age'] > 25\n",
    "print(df)\n"
   ]
  },
  {
   "cell_type": "markdown",
   "metadata": {},
   "source": [
    "### Question 4: Merging DataFrames\n",
    "#### Task: Merge two DataFrames on the \"name\" column."
   ]
  },
  {
   "cell_type": "code",
   "execution_count": 16,
   "metadata": {},
   "outputs": [
    {
     "name": "stdout",
     "output_type": "stream",
     "text": [
      "    name  age         city\n",
      "0  Alice   24     New York\n",
      "1    Bob   27  Los Angeles\n"
     ]
    }
   ],
   "source": [
    "import pandas as pd\n",
    "\n",
    "# Sample DataFrames\n",
    "data1 = {'name': ['Alice', 'Bob', 'Charlie'],\n",
    "         'age': [24, 27, 22]}\n",
    "df1 = pd.DataFrame(data1)\n",
    "\n",
    "data2 = {'name': ['Alice', 'Bob', 'David'],\n",
    "         'city': ['New York', 'Los Angeles', 'Houston']}\n",
    "df2 = pd.DataFrame(data2)\n",
    "\n",
    "# Merge DataFrames on 'name'\n",
    "merged_df = pd.merge(df1, df2, on='name', how='inner')\n",
    "print(merged_df)\n"
   ]
  },
  {
   "cell_type": "markdown",
   "metadata": {},
   "source": [
    "### Question 5: Handling Missing Data\n",
    "#### Task: Fill the missing values in the \"age\" column with the mean age of the DataFrame."
   ]
  },
  {
   "cell_type": "code",
   "execution_count": 18,
   "metadata": {},
   "outputs": [
    {
     "name": "stdout",
     "output_type": "stream",
     "text": [
      "      name   age         city\n",
      "0    Alice  24.0     New York\n",
      "1      Bob  26.0  Los Angeles\n",
      "2  Charlie  22.0      Chicago\n",
      "3    David  32.0      Houston\n"
     ]
    }
   ],
   "source": [
    "import pandas as pd\n",
    "\n",
    "# Sample DataFrame with missing values\n",
    "data = {'name': ['Alice', 'Bob', 'Charlie', 'David'],\n",
    "        'age': [24, None, 22, 32],\n",
    "        'city': ['New York', 'Los Angeles', 'Chicago', 'Houston']}\n",
    "df = pd.DataFrame(data)\n",
    "\n",
    "# Fill missing values in 'age' with the mean age\n",
    "df['age'].fillna(df['age'].mean(), inplace=True)\n",
    "print(df)\n"
   ]
  },
  {
   "cell_type": "code",
   "execution_count": null,
   "metadata": {},
   "outputs": [],
   "source": []
  }
 ],
 "metadata": {
  "kernelspec": {
   "display_name": "base",
   "language": "python",
   "name": "python3"
  },
  "language_info": {
   "codemirror_mode": {
    "name": "ipython",
    "version": 3
   },
   "file_extension": ".py",
   "mimetype": "text/x-python",
   "name": "python",
   "nbconvert_exporter": "python",
   "pygments_lexer": "ipython3",
   "version": "3.11.5"
  }
 },
 "nbformat": 4,
 "nbformat_minor": 2
}
