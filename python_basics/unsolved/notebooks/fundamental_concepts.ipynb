{
 "cells": [
  {
   "cell_type": "markdown",
   "metadata": {},
   "source": [
    "## List\n",
    "### Question: How do you find the largest element in a list?"
   ]
  },
  {
   "cell_type": "code",
   "execution_count": null,
   "metadata": {},
   "outputs": [],
   "source": [
    "# Finding the largest element in a list\n",
    "def find_largest(lst):\n",
    "    return max(lst)\n",
    "\n",
    "# Example usage\n",
    "numbers = [1, 2, 3, 4, 5]\n",
    "print(\"Largest element:\", find_largest(numbers))\n"
   ]
  },
  {
   "cell_type": "markdown",
   "metadata": {},
   "source": [
    "## Tuple\n",
    "### Question: How do you create a tuple and access its elements?"
   ]
  },
  {
   "cell_type": "code",
   "execution_count": null,
   "metadata": {},
   "outputs": [],
   "source": [
    "# Creating a tuple and accessing its elements\n",
    "def create_and_access_tuple():\n",
    "    my_tuple = (1, 2, 3, 4, 5)\n",
    "    first_element = my_tuple[0]\n",
    "    last_element = my_tuple[-1]\n",
    "    return first_element, last_element\n",
    "\n",
    "# Example usage\n",
    "first, last = create_and_access_tuple()\n",
    "print(\"First element:\", first)\n",
    "print(\"Last element:\", last)\n"
   ]
  },
  {
   "cell_type": "markdown",
   "metadata": {},
   "source": [
    "## Dictionary\n",
    "### Question: How do you iterate over the keys and values of a dictionary?"
   ]
  },
  {
   "cell_type": "code",
   "execution_count": null,
   "metadata": {},
   "outputs": [],
   "source": [
    "# Iterating over the keys and values of a dictionary\n",
    "def iterate_dictionary(d):\n",
    "    for key, value in d.items():\n",
    "        print(f\"Key: {key}, Value: {value}\")\n",
    "\n",
    "# Example usage\n",
    "my_dict = {'a': 1, 'b': 2, 'c': 3}\n",
    "iterate_dictionary(my_dict)\n"
   ]
  },
  {
   "cell_type": "markdown",
   "metadata": {},
   "source": [
    "## Set\n",
    "### Question: How do you find the intersection of two sets?"
   ]
  },
  {
   "cell_type": "code",
   "execution_count": null,
   "metadata": {},
   "outputs": [],
   "source": [
    "# Finding the intersection of two sets\n",
    "def find_intersection(set1, set2):\n",
    "    return set1.intersection(set2)\n",
    "\n",
    "# Example usage\n",
    "set1 = {1, 2, 3, 4}\n",
    "set2 = {3, 4, 5, 6}\n",
    "print(\"Intersection:\", find_intersection(set1, set2))\n"
   ]
  },
  {
   "cell_type": "markdown",
   "metadata": {},
   "source": [
    "## For Loop\n",
    "### Question: How do you use a for loop to sum all the elements in a list?"
   ]
  },
  {
   "cell_type": "code",
   "execution_count": null,
   "metadata": {},
   "outputs": [],
   "source": [
    "# Using a for loop to sum all elements in a list\n",
    "def sum_list(lst):\n",
    "    total = 0\n",
    "    for num in lst:\n",
    "        total += num\n",
    "    return total\n",
    "\n",
    "# Example usage\n",
    "numbers = [1, 2, 3, 4, 5]\n",
    "print(\"Sum of list:\", sum_list(numbers))\n"
   ]
  },
  {
   "cell_type": "markdown",
   "metadata": {},
   "source": [
    "## While Loop\n",
    "### Question: How do you use a while loop to print numbers from 1 to 10?"
   ]
  },
  {
   "cell_type": "code",
   "execution_count": null,
   "metadata": {},
   "outputs": [],
   "source": [
    "# Using a while loop to print numbers from 1 to 10\n",
    "def print_numbers():\n",
    "    i = 1\n",
    "    while i <= 10:\n",
    "        print(i)\n",
    "        i += 1\n",
    "\n",
    "# Example usage\n",
    "print_numbers()\n"
   ]
  },
  {
   "cell_type": "markdown",
   "metadata": {},
   "source": [
    "## List Comprehension\n",
    "### Question: How do you use list comprehension to create a list of squares of numbers from 1 to 10?"
   ]
  },
  {
   "cell_type": "code",
   "execution_count": null,
   "metadata": {},
   "outputs": [],
   "source": [
    "# Using list comprehension to create a list of squares\n",
    "def list_of_squares():\n",
    "    return [x**2 for x in range(1, 11)]\n",
    "\n",
    "# Example usage\n",
    "print(\"List of squares:\", list_of_squares())\n"
   ]
  },
  {
   "cell_type": "markdown",
   "metadata": {},
   "source": [
    "## Map\n",
    "### Question: How do you use the map function to double each element in a list?"
   ]
  },
  {
   "cell_type": "code",
   "execution_count": null,
   "metadata": {},
   "outputs": [],
   "source": [
    "# Using the map function to double each element in a list\n",
    "def double_elements(lst):\n",
    "    return list(map(lambda x: x * 2, lst))\n",
    "\n",
    "# Example usage\n",
    "numbers = [1, 2, 3, 4, 5]\n",
    "print(\"Doubled elements:\", double_elements(numbers))\n"
   ]
  },
  {
   "cell_type": "markdown",
   "metadata": {},
   "source": [
    "## Reduce\n",
    "### Question: How do you use the reduce function to find the product of all elements in a list?"
   ]
  },
  {
   "cell_type": "code",
   "execution_count": null,
   "metadata": {},
   "outputs": [],
   "source": [
    "# Using the reduce function to find the product of all elements in a list\n",
    "from functools import reduce\n",
    "\n",
    "def product_of_elements(lst):\n",
    "    return reduce(lambda x, y: x * y, lst)\n",
    "\n",
    "# Example usage\n",
    "numbers = [1, 2, 3, 4, 5]\n",
    "print(\"Product of elements:\", product_of_elements(numbers))\n"
   ]
  },
  {
   "cell_type": "markdown",
   "metadata": {},
   "source": [
    "## Apply Function\n",
    "### Question: How do you use the apply function to apply a function to a pandas DataFrame column?"
   ]
  },
  {
   "cell_type": "code",
   "execution_count": null,
   "metadata": {},
   "outputs": [],
   "source": [
    "import pandas as pd\n",
    "\n",
    "# Using the apply function to apply a function to a DataFrame column\n",
    "def add_ten(x):\n",
    "    return x + 10\n",
    "\n",
    "def apply_function_to_column(df):\n",
    "    df['B'] = df['A'].apply(add_ten)\n",
    "    return df\n",
    "\n",
    "# Example usage\n",
    "data = {'A': [1, 2, 3, 4, 5]}\n",
    "df = pd.DataFrame(data)\n",
    "print(\"DataFrame before applying function:\\n\", df)\n",
    "df = apply_function_to_column(df)\n",
    "print(\"DataFrame after applying function:\\n\", df)\n"
   ]
  }
 ],
 "metadata": {
  "kernelspec": {
   "display_name": "base",
   "language": "python",
   "name": "python3"
  },
  "language_info": {
   "codemirror_mode": {
    "name": "ipython",
    "version": 3
   },
   "file_extension": ".py",
   "mimetype": "text/x-python",
   "name": "python",
   "nbconvert_exporter": "python",
   "pygments_lexer": "ipython3",
   "version": "3.11.5"
  }
 },
 "nbformat": 4,
 "nbformat_minor": 2
}
