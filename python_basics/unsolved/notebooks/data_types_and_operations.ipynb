{
 "cells": [
  {
   "cell_type": "markdown",
   "metadata": {},
   "source": [
    "## Data Types and Operations\n",
    "\n"
   ]
  },
  {
   "cell_type": "markdown",
   "metadata": {},
   "source": [
    "### Question 1: How do you merge two dictionaries in Python?\n"
   ]
  },
  {
   "cell_type": "code",
   "execution_count": null,
   "metadata": {},
   "outputs": [],
   "source": [
    "# Merging two dictionaries\n",
    "dict1 = {'a': 1, 'b': 2}\n",
    "dict2 = {'c': 3, 'd': 4}\n",
    "\n",
    "# Method 1: Using the update() method\n",
    "merged_dict = dict1.copy()\n",
    "merged_dict.update(dict2)\n",
    "print(\"Merged Dictionary using update():\", merged_dict)\n",
    "\n",
    "# Method 2: Using the ** unpacking operator (Python 3.5+)\n",
    "merged_dict = {**dict1, **dict2}\n",
    "print(\"Merged Dictionary using unpacking:\", merged_dict)\n"
   ]
  },
  {
   "cell_type": "markdown",
   "metadata": {},
   "source": [
    "### Question 2: How can you check if a list contains any duplicates?\n"
   ]
  },
  {
   "cell_type": "code",
   "execution_count": null,
   "metadata": {},
   "outputs": [],
   "source": [
    "# Checking for duplicates in a list\n",
    "def has_duplicates(lst):\n",
    "    return len(lst) != len(set(lst))\n",
    "\n",
    "# Test case\n",
    "sample_list = [1, 2, 3, 4, 5, 1]\n",
    "print(\"Contains duplicates:\", has_duplicates(sample_list))\n"
   ]
  },
  {
   "cell_type": "markdown",
   "metadata": {},
   "source": [
    "### Question 3: How do you reverse a string in Python?\n"
   ]
  },
  {
   "cell_type": "code",
   "execution_count": null,
   "metadata": {},
   "outputs": [],
   "source": [
    "# Reversing a string\n",
    "def reverse_string(s):\n",
    "    return s[::-1]\n",
    "\n",
    "# Test case\n",
    "sample_string = \"Hello, World!\"\n",
    "print(\"Reversed string:\", reverse_string(sample_string))\n"
   ]
  },
  {
   "cell_type": "markdown",
   "metadata": {},
   "source": [
    "### Question 4: How do you convert a list of integers to a single integer (concatenate the integers)?\n"
   ]
  },
  {
   "cell_type": "code",
   "execution_count": null,
   "metadata": {},
   "outputs": [],
   "source": [
    "# Concatenating a list of integers into a single integer\n",
    "def concatenate_integers(lst):\n",
    "    return int(''.join(map(str, lst)))\n",
    "\n",
    "# Test case\n",
    "int_list = [1, 2, 3, 4]\n",
    "print(\"Concatenated integer:\", concatenate_integers(int_list))\n"
   ]
  },
  {
   "cell_type": "markdown",
   "metadata": {},
   "source": [
    "### Question 5: How can you find the intersection of two lists?\n"
   ]
  },
  {
   "cell_type": "code",
   "execution_count": null,
   "metadata": {},
   "outputs": [],
   "source": [
    "# Finding the intersection of two lists\n",
    "def intersection(lst1, lst2):\n",
    "    return list(set(lst1) & set(lst2))\n",
    "\n",
    "# Test case\n",
    "list1 = [1, 2, 3, 4]\n",
    "list2 = [3, 4, 5, 6]\n",
    "print(\"Intersection:\", intersection(list1, list2))\n"
   ]
  }
 ],
 "metadata": {
  "kernelspec": {
   "display_name": "Python 3",
   "language": "python",
   "name": "python3"
  },
  "language_info": {
   "name": "python",
   "version": "3.11.5"
  }
 },
 "nbformat": 4,
 "nbformat_minor": 2
}
