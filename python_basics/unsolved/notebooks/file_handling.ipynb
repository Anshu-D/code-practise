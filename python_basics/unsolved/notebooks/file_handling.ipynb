{
 "cells": [
  {
   "cell_type": "markdown",
   "metadata": {},
   "source": [
    "### Question 1: How do you read the entire content of a text file?"
   ]
  },
  {
   "cell_type": "code",
   "execution_count": 2,
   "metadata": {},
   "outputs": [
    {
     "name": "stdout",
     "output_type": "stream",
     "text": [
      "Hello World !!!\n",
      "I am practising python.\n"
     ]
    }
   ],
   "source": [
    "# Reading the entire content of a text file\n",
    "def read_file(file_path):\n",
    "    with open(file_path, 'r') as file:\n",
    "        content = file.read()\n",
    "    return content\n",
    "\n",
    "# Example usage\n",
    "file_path = './../documents/sample.txt'\n",
    "print(read_file(file_path))\n",
    "\n"
   ]
  },
  {
   "cell_type": "markdown",
   "metadata": {},
   "source": [
    "### Question 2: How do you write data to a text file?\n"
   ]
  },
  {
   "cell_type": "code",
   "execution_count": 7,
   "metadata": {},
   "outputs": [],
   "source": [
    "# Writing data to a text file\n",
    "def write_to_file(file_path, data):\n",
    "    with open(file_path, 'w') as file:\n",
    "        file.write(data)\n",
    "\n",
    "# Example usage\n",
    "file_path = './../documents/output.txt'\n",
    "\n",
    "data = \"Hello, world!\\nThis is a sample output text file.\"\n",
    "write_to_file(file_path, data)\n"
   ]
  },
  {
   "cell_type": "markdown",
   "metadata": {},
   "source": [
    "### Question 3: How do you append data to an existing text file?\n"
   ]
  },
  {
   "cell_type": "code",
   "execution_count": 8,
   "metadata": {},
   "outputs": [],
   "source": [
    "# Appending data to an existing text file\n",
    "def append_to_file(file_path, data):\n",
    "    with open(file_path, 'a') as file:\n",
    "        file.write(data)\n",
    "\n",
    "# Example usage\n",
    "file_path = './../documents/output.txt'\n",
    "data_to_append = \"\\nThis line is appended to the file for the 5th time.\"\n",
    "append_to_file(file_path, data_to_append)\n"
   ]
  },
  {
   "cell_type": "markdown",
   "metadata": {},
   "source": [
    "### Question 4: How do you read a file line by line and store each line in a list?"
   ]
  },
  {
   "cell_type": "code",
   "execution_count": null,
   "metadata": {},
   "outputs": [],
   "source": [
    "# Reading a file line by line and storing each line in a list\n",
    "def read_file_lines(file_path):\n",
    "    with open(file_path, 'r') as file:\n",
    "        lines = file.readlines()\n",
    "    return lines\n",
    "\n",
    "# Example usage\n",
    "file_path = './../documents/sample.txt'\n",
    "lines = read_file_lines(file_path)\n",
    "print(lines)\n"
   ]
  },
  {
   "cell_type": "markdown",
   "metadata": {},
   "source": [
    "### Question 5: How do you check if a file exists before performing file operations?"
   ]
  },
  {
   "cell_type": "code",
   "execution_count": null,
   "metadata": {},
   "outputs": [],
   "source": [
    "# Checking if a file exists before performing file operations\n",
    "import os\n",
    "\n",
    "def read_file_if_exists(file_path):\n",
    "    if os.path.exists(file_path):\n",
    "        with open(file_path, 'r') as file:\n",
    "            content = file.read()\n",
    "        return content\n",
    "    else:\n",
    "        return f\"{file_path} does not exist.\"\n",
    "\n",
    "# Example usage\n",
    "file_path = './../documents/sample.txt'\n",
    "print(read_file_if_exists(file_path))\n",
    "\n",
    "file_path = './../documents/sample2.txt'\n",
    "print(read_file_if_exists(file_path))\n"
   ]
  }
 ],
 "metadata": {
  "kernelspec": {
   "display_name": "base",
   "language": "python",
   "name": "python3"
  },
  "language_info": {
   "codemirror_mode": {
    "name": "ipython",
    "version": 3
   },
   "file_extension": ".py",
   "mimetype": "text/x-python",
   "name": "python",
   "nbconvert_exporter": "python",
   "pygments_lexer": "ipython3",
   "version": "3.11.5"
  }
 },
 "nbformat": 4,
 "nbformat_minor": 2
}
